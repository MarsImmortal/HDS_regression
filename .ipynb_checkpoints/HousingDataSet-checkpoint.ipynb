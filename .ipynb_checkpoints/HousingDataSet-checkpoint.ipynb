{
 "cells": [
  {
   "cell_type": "code",
   "execution_count": null,
   "id": "564c7ff2",
   "metadata": {},
   "outputs": [],
   "source": [
    "# Python code to illustrate \n",
    "# regression using data set \n",
    "import matplotlib \n",
    "matplotlib.use('GTKAgg') \n",
    "\n",
    "import matplotlib.pyplot as plt \n",
    "import numpy as np \n",
    "from sklearn import datasets, linear_model \n",
    "import pandas as pd \n",
    "\n",
    "# Load CSV and columns \n",
    "df = pd.read_csv(\"Housing.csv\") \n",
    "\n",
    "Y = df['price'] \n",
    "X = df['lotsize'] \n",
    "\n",
    "X=X.values.reshape(len(X),1) \n",
    "Y=Y.values.reshape(len(Y),1) \n",
    "\n",
    "# Split the data into training/testing sets \n",
    "X_train = X[:-250] \n",
    "X_test = X[-250:] \n",
    "\n",
    "# Split the targets into training/testing sets \n",
    "Y_train = Y[:-250] \n",
    "Y_test = Y[-250:] \n",
    "\n",
    "# Plot outputs \n",
    "plt.scatter(X_test, Y_test, color='black') \n",
    "plt.title('Test Data') \n",
    "plt.xlabel('Size') \n",
    "plt.ylabel('Price') \n",
    "plt.xticks(()) \n",
    "plt.yticks(()) \n",
    "\n",
    "\n",
    "# Create linear regression object \n",
    "regr = linear_model.LinearRegression() \n",
    "\n",
    "# Train the model using the training sets \n",
    "regr.fit(X_train, Y_train) \n",
    "\n",
    "# Plot outputs \n",
    "plt.plot(X_test, regr.predict(X_test), color='red',linewidth=3) \n",
    "plt.show() \n"
   ]
  }
 ],
 "metadata": {
  "kernelspec": {
   "display_name": "Python 3 (ipykernel)",
   "language": "python",
   "name": "python3"
  },
  "language_info": {
   "codemirror_mode": {
    "name": "ipython",
    "version": 3
   },
   "file_extension": ".py",
   "mimetype": "text/x-python",
   "name": "python",
   "nbconvert_exporter": "python",
   "pygments_lexer": "ipython3",
   "version": "3.11.7"
  }
 },
 "nbformat": 4,
 "nbformat_minor": 5
}
